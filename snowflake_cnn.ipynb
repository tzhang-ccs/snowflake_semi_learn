{
 "cells": [
  {
   "cell_type": "code",
   "execution_count": 1,
   "id": "7af65377-2cb9-4429-a961-dc0a4e386e24",
   "metadata": {
    "tags": []
   },
   "outputs": [
    {
     "name": "stderr",
     "output_type": "stream",
     "text": [
      "/global/cfs/projectdirs/m2136/backup/conda/envs/pytorch1/lib/python3.11/site-packages/tqdm/auto.py:21: TqdmWarning: IProgress not found. Please update jupyter and ipywidgets. See https://ipywidgets.readthedocs.io/en/stable/user_install.html\n",
      "  from .autonotebook import tqdm as notebook_tqdm\n"
     ]
    }
   ],
   "source": [
    "import torch\n",
    "import torch.nn as nn\n",
    "import sys\n",
    "import os\n",
    "from torchvision import datasets,transforms\n",
    "import torch.optim as optim\n",
    "from torch.utils.data import DataLoader,Dataset\n",
    "import torchvision\n",
    "from loguru import logger\n",
    "import argparse\n",
    "import torchvision.models as models"
   ]
  },
  {
   "cell_type": "markdown",
   "id": "e7e01abd-45bd-45ab-8d4b-31828ac03b20",
   "metadata": {},
   "source": [
    "# 1. CNN model"
   ]
  },
  {
   "cell_type": "code",
   "execution_count": 5,
   "id": "7e50d429-640c-4dbd-a284-af910901e0cb",
   "metadata": {
    "tags": []
   },
   "outputs": [],
   "source": [
    "epoch = 500\n",
    "batch_size = 128"
   ]
  },
  {
   "cell_type": "code",
   "execution_count": 6,
   "id": "072d20f7-5376-4840-b950-adce9431ae94",
   "metadata": {
    "tags": []
   },
   "outputs": [],
   "source": [
    "class CNN(nn.Module):\n",
    "    def __init__(self):\n",
    "        super(CNN,self).__init__()\n",
    "        \n",
    "        self.conv1 = nn.Conv2d(3,16,kernel_size=3,stride=1,padding=1)\n",
    "        self.relu1 = nn.ReLU()\n",
    "        self.maxpool1 = nn.MaxPool2d(kernel_size=2,stride=2)\n",
    "        \n",
    "        self.conv2 = nn.Conv2d(16,32,kernel_size=3,stride=1,padding=1)\n",
    "        self.relu2 = nn.ReLU()\n",
    "        self.maxpool2 = nn.MaxPool2d(kernel_size=2,stride=2)\n",
    "        \n",
    "        self.fc1 = nn.Linear(32*56*56, 64)\n",
    "        self.relu3 = nn.ReLU()\n",
    "        self.fc2 = nn.Linear(64,5)\n",
    "        \n",
    "    def forward(self,x):\n",
    "        x = self.conv1(x)\n",
    "        x = self.relu1(x)\n",
    "        x = self.maxpool1(x)\n",
    "        \n",
    "        x = self.conv2(x)\n",
    "        x = self.relu2(x)\n",
    "        x = self.maxpool2(x)\n",
    "        \n",
    "        x = x.view(x.size(0),-1)\n",
    "        \n",
    "        x = self.fc1(x)\n",
    "        x = self.relu3(x)\n",
    "        x = self.fc2(x)\n",
    "        \n",
    "        \n",
    "        return x"
   ]
  },
  {
   "cell_type": "code",
   "execution_count": 7,
   "id": "dd9c9e35-092b-45a8-81b8-0a2045417c8a",
   "metadata": {
    "tags": []
   },
   "outputs": [],
   "source": [
    "class myDataset(Dataset):\n",
    "    def __init__(self, data_path):\n",
    "        n = 224\n",
    "        transform = transforms.Compose([transforms.Resize((n,n)), transforms.ToTensor()])\n",
    "        self.data = datasets.ImageFolder(f'{data_path}',transform)\n",
    "\n",
    "    def __getitem__(self, index):\n",
    "        x,y = self.data[index]\n",
    "        y = torch.tensor(y)\n",
    "        x = x.to(device)\n",
    "        y = y.to(device)\n",
    "\n",
    "        return x,y\n",
    "\n",
    "    def __len__(self):\n",
    "        self.num = len(self.data.targets)\n",
    "        return self.num"
   ]
  },
  {
   "cell_type": "code",
   "execution_count": 19,
   "id": "9fd90a57-16cd-4d92-9151-0bfd86c42434",
   "metadata": {
    "tags": []
   },
   "outputs": [],
   "source": [
    "resnet = models.resnet50(pretrained=True)\n",
    "num_features = resnet.fc.in_features\n",
    "resnet.fc = torch.nn.Linear(num_features, 5)\n",
    "resnet = resnet.to(device)"
   ]
  },
  {
   "cell_type": "markdown",
   "id": "f5c0e671-903d-4dab-93cc-9218b2ccef8d",
   "metadata": {},
   "source": [
    "# 2. data"
   ]
  },
  {
   "cell_type": "code",
   "execution_count": 10,
   "id": "119e525e-d0ad-4ecf-8ee3-00664e65bed5",
   "metadata": {
    "tags": []
   },
   "outputs": [],
   "source": [
    "train_path = f'/pscratch/sd/z/zhangtao/storm/mpc/key_paper/training'\n",
    "test_path  = f'/pscratch/sd/z/zhangtao/storm/mpc/key_paper/test'\n",
    "n = 224\n",
    "device = torch.device(\"cuda\" if torch.cuda.is_available() else \"cpu\")\n",
    "\n",
    "transform = transforms.Compose([transforms.Resize((n,n)), transforms.ToTensor()])"
   ]
  },
  {
   "cell_type": "code",
   "execution_count": 6,
   "id": "289f769f-f01d-4ef6-bb87-2e514cc736d6",
   "metadata": {
    "tags": []
   },
   "outputs": [],
   "source": [
    "train_data = datasets.ImageFolder(f'{train_path}',transform)\n",
    "train_loader = DataLoader(train_data, batch_size=batch_size, shuffle=True)\n",
    "\n",
    "n_train = len(train_data.targets)"
   ]
  },
  {
   "cell_type": "markdown",
   "id": "20a592b3-381e-42f0-810f-79d10fee0deb",
   "metadata": {},
   "source": [
    "# 3. train"
   ]
  },
  {
   "cell_type": "code",
   "execution_count": 7,
   "id": "fd4eaed2-5a07-4970-b263-a484e4a94e8c",
   "metadata": {
    "tags": []
   },
   "outputs": [],
   "source": [
    "model = CNN().to(device)\n",
    "criterion = nn.CrossEntropyLoss()\n",
    "optimizer = optim.SGD(model.parameters(), lr=0.001)"
   ]
  },
  {
   "cell_type": "code",
   "execution_count": null,
   "id": "85c001af-8887-449b-95b0-d4b8b48afe02",
   "metadata": {
    "tags": []
   },
   "outputs": [],
   "source": [
    "for e in range(epoch):\n",
    "    train_loss = 0.0\n",
    "    for i,data in enumerate(train_loader):\n",
    "        x,y = data\n",
    "        x = x.to(device)\n",
    "        y = y.to(device)\n",
    "        optimizer.zero_grad()\n",
    "\n",
    "        out = model(x)    \n",
    "        loss = criterion(out,y)\n",
    "        loss.backward()\n",
    "        optimizer.step()\n",
    "\n",
    "        train_loss += loss.item()\n",
    "    \n",
    "    print(f'epoch={e}, loss = {train_loss/n_train}')"
   ]
  },
  {
   "cell_type": "code",
   "execution_count": 8,
   "id": "30746e47-c4b6-42f6-9ff1-92645d1f98bd",
   "metadata": {},
   "outputs": [],
   "source": [
    "model = torch.load('../saved_models/cnn')"
   ]
  },
  {
   "cell_type": "code",
   "execution_count": 8,
   "id": "26936fa3-831d-496d-8404-2b663f3c7141",
   "metadata": {
    "tags": []
   },
   "outputs": [],
   "source": [
    "test_path = f'/pscratch/sd/z/zhangtao/storm/mpc/key_paper/test/'\n",
    "test_data = myDataset(test_path)\n",
    "test_loader = DataLoader(test_data, batch_size=batch_size,shuffle=False)"
   ]
  },
  {
   "cell_type": "code",
   "execution_count": 20,
   "id": "507f1986-f5ec-4b28-b02a-94fa1a393881",
   "metadata": {
    "tags": []
   },
   "outputs": [
    {
     "name": "stdout",
     "output_type": "stream",
     "text": [
      "torch.Size([128])\n",
      "torch.Size([128, 5])\n"
     ]
    },
    {
     "ename": "SystemExit",
     "evalue": "",
     "output_type": "error",
     "traceback": [
      "An exception has occurred, use %tb to see the full traceback.\n",
      "\u001b[0;31mSystemExit\u001b[0m\n"
     ]
    }
   ],
   "source": [
    "for data in test_loader:\n",
    "    with torch.no_grad():\n",
    "        x,y = data\n",
    "        out = resnet(x)\n",
    "        \n",
    "        print(y.shape)\n",
    "        print(out.shape)\n",
    "    sys.exit()\n",
    "    \n",
    "    "
   ]
  },
  {
   "cell_type": "code",
   "execution_count": null,
   "id": "d6bd4c60-d798-4471-935f-4a9807949903",
   "metadata": {},
   "outputs": [],
   "source": []
  }
 ],
 "metadata": {
  "kernelspec": {
   "display_name": "pytorch1",
   "language": "python",
   "name": "pytorch1"
  },
  "language_info": {
   "codemirror_mode": {
    "name": "ipython",
    "version": 3
   },
   "file_extension": ".py",
   "mimetype": "text/x-python",
   "name": "python",
   "nbconvert_exporter": "python",
   "pygments_lexer": "ipython3",
   "version": "3.11.6"
  }
 },
 "nbformat": 4,
 "nbformat_minor": 5
}
