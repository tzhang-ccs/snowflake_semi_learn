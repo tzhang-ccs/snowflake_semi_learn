{
 "cells": [
  {
   "cell_type": "code",
   "execution_count": 1,
   "metadata": {
    "collapsed": false,
    "jupyter": {
     "outputs_hidden": false
    },
    "pycharm": {
     "name": "#%%\n"
    },
    "tags": []
   },
   "outputs": [
    {
     "name": "stderr",
     "output_type": "stream",
     "text": [
      "/global/cfs/projectdirs/m2136/backup/conda/envs/pytorch1/lib/python3.11/site-packages/tqdm/auto.py:21: TqdmWarning: IProgress not found. Please update jupyter and ipywidgets. See https://ipywidgets.readthedocs.io/en/stable/user_install.html\n",
      "  from .autonotebook import tqdm as notebook_tqdm\n"
     ]
    }
   ],
   "source": [
    "import semilearn\n",
    "from semilearn import get_dataset, get_data_loader, get_net_builder, get_algorithm, get_config, Trainer\n",
    "from semilearn import BasicDataset\n",
    "import sys\n",
    "from torchvision import datasets,transforms\n",
    "import torch\n",
    "from semilearn.datasets.augmentation import RandAugment\n",
    "import matplotlib.pyplot as plt\n",
    "import numpy as np\n",
    "from semilearn.datasets.utils import split_ssl_data"
   ]
  },
  {
   "cell_type": "markdown",
   "metadata": {
    "pycharm": {
     "name": "#%% md\n"
    }
   },
   "source": [
    "## Step 1: define configs and create config"
   ]
  },
  {
   "cell_type": "code",
   "execution_count": 35,
   "metadata": {
    "collapsed": false,
    "jupyter": {
     "outputs_hidden": false
    },
    "pycharm": {
     "name": "#%%\n"
    },
    "tags": []
   },
   "outputs": [
    {
     "name": "stderr",
     "output_type": "stream",
     "text": [
      "/bin/sh: netstat: command not found\n"
     ]
    }
   ],
   "source": [
    "config = {\n",
    "    'algorithm': 'fixmatch',\n",
    "    'net': 'vit_tiny_patch2_32',\n",
    "    'use_pretrain': False, \n",
    "    'pretrain_path': 'https://github.com/microsoft/Semi-supervised-learning/releases/download/v.0.0.0/vit_tiny_patch2_32_mlp_im_1k_32.pth',\n",
    "\n",
    "    # optimization configs\n",
    "    'epoch': 2,  \n",
    "    'num_train_iter': 5000,  \n",
    "    'num_eval_iter': 500,  \n",
    "    'num_log_iter': 50,  \n",
    "    'optim': 'AdamW',\n",
    "    'lr': 5e-4,\n",
    "    'layer_decay': 0.5,\n",
    "    'batch_size': 16,\n",
    "    'eval_batch_size': 16,\n",
    "\n",
    "\n",
    "    # dataset configs\n",
    "    'dataset': 'cifar10',\n",
    "    'num_labels': 40,\n",
    "    'num_classes': 10,\n",
    "    'img_size': 32,\n",
    "    'crop_ratio': 0.875,\n",
    "    'data_dir': './data',\n",
    "    'ulb_samples_per_class': None,\n",
    "\n",
    "    # algorithm specific configs\n",
    "    'hard_label': True,\n",
    "    'uratio': 2,\n",
    "    'ulb_loss_ratio': 1.0,\n",
    "\n",
    "    # device configs\n",
    "    'gpu': 0,\n",
    "    'world_size': 1,\n",
    "    'distributed': False,\n",
    "    \"num_workers\": 2,\n",
    "}\n",
    "config = get_config(config)"
   ]
  },
  {
   "cell_type": "markdown",
   "metadata": {
    "pycharm": {
     "name": "#%% md\n"
    }
   },
   "source": [
    "## Step 2: create model and specify algorithm"
   ]
  },
  {
   "cell_type": "code",
   "execution_count": 36,
   "metadata": {
    "collapsed": false,
    "jupyter": {
     "outputs_hidden": false
    },
    "pycharm": {
     "name": "#%%\n"
    },
    "tags": []
   },
   "outputs": [
    {
     "name": "stdout",
     "output_type": "stream",
     "text": [
      "Files already downloaded and verified\n",
      "lb count: [4, 4, 4, 4, 4, 4, 4, 4, 4, 4]\n",
      "ulb count: [5000, 5000, 5000, 5000, 5000, 5000, 5000, 5000, 5000, 5000]\n",
      "Files already downloaded and verified\n",
      "unlabeled data number: 50000, labeled data number 40\n",
      "Create train and test data loaders\n",
      "[!] data loader keys: dict_keys(['train_lb', 'train_ulb', 'eval'])\n",
      "Create optimizer and scheduler\n"
     ]
    }
   ],
   "source": [
    "algorithm = get_algorithm(config,  get_net_builder(config.net, from_name=False), tb_log=None, logger=None)"
   ]
  },
  {
   "cell_type": "markdown",
   "metadata": {
    "pycharm": {
     "name": "#%% md\n"
    }
   },
   "source": [
    "## Step 3: create dataset"
   ]
  },
  {
   "cell_type": "code",
   "execution_count": null,
   "metadata": {
    "jupyter": {
     "source_hidden": true
    },
    "pycharm": {
     "name": "#%%\n"
    },
    "tags": []
   },
   "outputs": [],
   "source": [
    "# cifar.py get_cifar()\n",
    "#lb_data, lb_targets, ulb_data, ulb_targets = split_ssl_data()\n",
    "dataset_dict = get_dataset(config, config.algorithm, config.dataset, config.num_labels, config.num_classes, data_dir=config.data_dir, include_lb_to_ulb=config.include_lb_to_ulb)\n",
    "train_lb_loader = get_data_loader(config, dataset_dict['train_lb'], config.batch_size)\n",
    "train_ulb_loader = get_data_loader(config, dataset_dict['train_ulb'], int(config.batch_size * config.uratio))\n",
    "eval_loader = get_data_loader(config, dataset_dict['eval'], config.eval_batch_size)"
   ]
  },
  {
   "cell_type": "markdown",
   "metadata": {},
   "source": [
    "### 3.1 config"
   ]
  },
  {
   "cell_type": "code",
   "execution_count": 39,
   "metadata": {
    "tags": []
   },
   "outputs": [],
   "source": [
    "target_class = ['AG','CC','GR','PC','SP']\n",
    "train_path = f'/pscratch/sd/z/zhangtao/storm/mpc/key_paper/training'\n",
    "test_path  = f'/pscratch/sd/z/zhangtao/storm/mpc/key_paper/test'\n",
    "n = 224\n",
    "n = 32\n",
    "crop_ratio = config.crop_ratio\n",
    "num_classes = 5\n",
    "\n",
    "transform_eval = transforms.Compose([transforms.Resize((n,n)),transforms.ToTensor()])\n",
    "transform = transforms.Compose([transforms.Resize((n,n))])\n",
    "transform_weak = transforms.Compose([\n",
    "    transforms.Resize(n),\n",
    "    transforms.RandomCrop(n, padding=int(n * (1 - crop_ratio)), padding_mode='reflect'),\n",
    "    transforms.RandomHorizontalFlip(),\n",
    "    transforms.ToTensor()\n",
    "])\n",
    "\n",
    "transform_strong = transforms.Compose([\n",
    "    transforms.Resize(n),\n",
    "    transforms.RandomCrop(n, padding=int(n * (1 - crop_ratio)), padding_mode='reflect'),\n",
    "    transforms.RandomHorizontalFlip(),\n",
    "    RandAugment(3, 5),\n",
    "    transforms.ToTensor()\n",
    "])"
   ]
  },
  {
   "cell_type": "markdown",
   "metadata": {},
   "source": [
    "### 3.2 train dataloader"
   ]
  },
  {
   "cell_type": "code",
   "execution_count": 40,
   "metadata": {
    "tags": []
   },
   "outputs": [
    {
     "name": "stdout",
     "output_type": "stream",
     "text": [
      "lb count: [8, 8, 8, 8, 8]\n",
      "ulb count: [4538, 4521, 4500, 4514, 4626]\n"
     ]
    }
   ],
   "source": [
    "train_img = []\n",
    "train_target = []\n",
    "\n",
    "train_data = datasets.ImageFolder(f'{train_path}',transform)\n",
    "\n",
    "for img, target in train_data:\n",
    "    train_img.append(img)\n",
    "    train_target.append(target)\n",
    "\n",
    "train_img = np.array(train_img)\n",
    "train_target = train_target\n",
    "\n",
    "lb_data, lb_target, ulb_data, ulb_target = split_ssl_data(config, train_img, train_target, \n",
    "                                                          num_classes, config.num_labels, \n",
    "                                                          include_lb_to_ulb=config.include_lb_to_ulb)\n",
    "\n",
    "del train_img, train_target\n",
    "\n",
    "lb_dset = BasicDataset(config.algorithm, lb_data, lb_target, num_classes, transform_weak, False, transform_strong, False)\n",
    "ulb_dset = BasicDataset(config.algorithm, ulb_data, ulb_target, num_classes, transform_weak, True, transform_strong, False)\n",
    "\n",
    "train_lb_loader = get_data_loader(config, lb_dset, config.batch_size)\n",
    "train_ulb_loader = get_data_loader(config, ulb_dset, int(config.batch_size * config.uratio))\n",
    "\n",
    "lb_count = [0 for _ in range(num_classes)]\n",
    "ulb_count = [0 for _ in range(num_classes)]\n",
    "for c in lb_target:\n",
    "    lb_count[c] += 1\n",
    "for c in ulb_target:\n",
    "    ulb_count[c] += 1\n",
    "print(\"lb count: {}\".format(lb_count))\n",
    "print(\"ulb count: {}\".format(ulb_count))\n",
    "\n",
    "del lb_data, lb_target, ulb_data, ulb_target\n",
    "del lb_dset, ulb_dset"
   ]
  },
  {
   "cell_type": "markdown",
   "metadata": {},
   "source": [
    "### 3.3 test dataloader"
   ]
  },
  {
   "cell_type": "code",
   "execution_count": 41,
   "metadata": {
    "tags": []
   },
   "outputs": [],
   "source": [
    "test_img = []\n",
    "test_target = []\n",
    "\n",
    "test_data = datasets.ImageFolder(f'{test_path}',transform)\n",
    "\n",
    "for img, target in test_data:\n",
    "    test_img.append(img)\n",
    "    test_target.append(target)\n",
    "\n",
    "test_img = np.array(test_img)\n",
    "test_target = test_target\n",
    "\n",
    "eval_dset = BasicDataset(config.algorithm, test_img, test_target, num_classes, transform_eval, False, None, False)\n",
    "eval_loader = get_data_loader(config, eval_dset, config.eval_batch_size)\n",
    "del test_img, test_target, eval_dset"
   ]
  },
  {
   "cell_type": "markdown",
   "metadata": {
    "pycharm": {
     "name": "#%% md\n"
    }
   },
   "source": [
    "## Step 4: train"
   ]
  },
  {
   "cell_type": "code",
   "execution_count": 42,
   "metadata": {
    "collapsed": false,
    "jupyter": {
     "outputs_hidden": false
    },
    "pycharm": {
     "name": "#%%\n"
    },
    "tags": []
   },
   "outputs": [
    {
     "name": "stdout",
     "output_type": "stream",
     "text": [
      "Epoch: 0\n",
      "50 iteration USE_EMA: True, train/sup_loss: 1.4937, train/unsup_loss: 0.0000, train/total_loss: 1.4937, train/util_ratio: 0.0000, train/run_time: 0.0965, lr: 0.0005, train/prefetch_time: 0.0024 \n",
      "100 iteration USE_EMA: True, train/sup_loss: 1.0346, train/unsup_loss: 0.0000, train/total_loss: 1.0346, train/util_ratio: 0.0000, train/run_time: 0.0960, lr: 0.0005, train/prefetch_time: 0.0022 \n",
      "150 iteration USE_EMA: True, train/sup_loss: 0.9116, train/unsup_loss: 0.0000, train/total_loss: 0.9116, train/util_ratio: 0.0000, train/run_time: 0.0962, lr: 0.0005, train/prefetch_time: 0.0024 \n",
      "200 iteration USE_EMA: True, train/sup_loss: 0.8372, train/unsup_loss: 0.0000, train/total_loss: 0.8372, train/util_ratio: 0.0000, train/run_time: 0.0958, lr: 0.0005, train/prefetch_time: 0.0023 \n",
      "250 iteration USE_EMA: True, train/sup_loss: 0.6101, train/unsup_loss: 0.2556, train/total_loss: 0.8658, train/util_ratio: 0.0312, train/run_time: 0.0958, lr: 0.0005, train/prefetch_time: 0.0024 \n",
      "300 iteration USE_EMA: True, train/sup_loss: 0.7260, train/unsup_loss: 0.0000, train/total_loss: 0.7260, train/util_ratio: 0.0000, train/run_time: 0.0958, lr: 0.0005, train/prefetch_time: 0.0022 \n",
      "350 iteration USE_EMA: True, train/sup_loss: 0.5652, train/unsup_loss: 0.2146, train/total_loss: 0.7798, train/util_ratio: 0.0625, train/run_time: 0.0956, lr: 0.0005, train/prefetch_time: 0.0023 \n",
      "400 iteration USE_EMA: True, train/sup_loss: 0.5978, train/unsup_loss: 0.0000, train/total_loss: 0.5978, train/util_ratio: 0.0000, train/run_time: 0.0957, lr: 0.0005, train/prefetch_time: 0.0023 \n",
      "450 iteration USE_EMA: True, train/sup_loss: 0.5445, train/unsup_loss: 0.0913, train/total_loss: 0.6358, train/util_ratio: 0.0312, train/run_time: 0.0958, lr: 0.0005, train/prefetch_time: 0.0025 \n",
      "validating...\n"
     ]
    },
    {
     "name": "stderr",
     "output_type": "stream",
     "text": [
      "/global/cfs/projectdirs/m2136/backup/conda/envs/pytorch1/lib/python3.11/site-packages/sklearn/metrics/_classification.py:1471: UndefinedMetricWarning: Precision is ill-defined and being set to 0.0 in labels with no predicted samples. Use `zero_division` parameter to control this behavior.\n",
      "  _warn_prf(average, modifier, msg_start, len(result))\n"
     ]
    },
    {
     "name": "stdout",
     "output_type": "stream",
     "text": [
      "confusion matrix:\n",
      "[[0.25  0.    0.    0.75  0.   ]\n",
      " [0.    0.    0.    1.    0.   ]\n",
      " [0.016 0.    0.    0.984 0.   ]\n",
      " [0.016 0.    0.    0.984 0.   ]\n",
      " [0.    0.    0.    1.    0.   ]]\n",
      "model saved: ./saved_models/fixmatch/latest_model.pth\n",
      "model saved: ./saved_models/fixmatch/model_best.pth\n",
      "500 iteration, USE_EMA: True, train/sup_loss: 0.5592, train/unsup_loss: 0.0000, train/total_loss: 0.5592, train/util_ratio: 0.0000, train/run_time: 0.0959, eval/loss: 1.5791, eval/top-1-acc: 0.2468, eval/balanced_acc: 0.2468, eval/precision: 0.2190, eval/recall: 0.2468, eval/F1: 0.1468, lr: 0.0005, train/prefetch_time: 0.0676 BEST_EVAL_ACC: 0.2468, at 500 iters\n",
      "550 iteration USE_EMA: True, train/sup_loss: 0.8808, train/unsup_loss: 0.0780, train/total_loss: 0.9588, train/util_ratio: 0.0312, train/run_time: 0.0966, lr: 0.0005, train/prefetch_time: 0.0022 \n",
      "600 iteration USE_EMA: True, train/sup_loss: 0.4766, train/unsup_loss: 0.9231, train/total_loss: 1.3997, train/util_ratio: 0.1562, train/run_time: 0.0975, lr: 0.0005, train/prefetch_time: 0.0022 \n",
      "650 iteration USE_EMA: True, train/sup_loss: 0.6042, train/unsup_loss: 0.2281, train/total_loss: 0.8322, train/util_ratio: 0.0312, train/run_time: 0.0970, lr: 0.0005, train/prefetch_time: 0.0025 \n",
      "700 iteration USE_EMA: True, train/sup_loss: 0.9441, train/unsup_loss: 0.5861, train/total_loss: 1.5302, train/util_ratio: 0.1250, train/run_time: 0.0967, lr: 0.0005, train/prefetch_time: 0.0022 \n",
      "750 iteration USE_EMA: True, train/sup_loss: 0.4980, train/unsup_loss: 0.2492, train/total_loss: 0.7471, train/util_ratio: 0.0312, train/run_time: 0.0968, lr: 0.0005, train/prefetch_time: 0.0024 \n",
      "800 iteration USE_EMA: True, train/sup_loss: 0.3784, train/unsup_loss: 0.7016, train/total_loss: 1.0800, train/util_ratio: 0.1875, train/run_time: 0.0966, lr: 0.0005, train/prefetch_time: 0.0024 \n",
      "850 iteration USE_EMA: True, train/sup_loss: 0.4144, train/unsup_loss: 0.2477, train/total_loss: 0.6620, train/util_ratio: 0.1562, train/run_time: 0.0975, lr: 0.0005, train/prefetch_time: 0.0022 \n",
      "900 iteration USE_EMA: True, train/sup_loss: 0.3987, train/unsup_loss: 0.5115, train/total_loss: 0.9102, train/util_ratio: 0.1875, train/run_time: 0.0973, lr: 0.0005, train/prefetch_time: 0.0023 \n",
      "950 iteration USE_EMA: True, train/sup_loss: 0.7522, train/unsup_loss: 0.7395, train/total_loss: 1.4916, train/util_ratio: 0.2500, train/run_time: 0.0975, lr: 0.0005, train/prefetch_time: 0.0023 \n",
      "validating...\n"
     ]
    },
    {
     "name": "stderr",
     "output_type": "stream",
     "text": [
      "/global/cfs/projectdirs/m2136/backup/conda/envs/pytorch1/lib/python3.11/site-packages/sklearn/metrics/_classification.py:1471: UndefinedMetricWarning: Precision is ill-defined and being set to 0.0 in labels with no predicted samples. Use `zero_division` parameter to control this behavior.\n",
      "  _warn_prf(average, modifier, msg_start, len(result))\n"
     ]
    },
    {
     "name": "stdout",
     "output_type": "stream",
     "text": [
      "confusion matrix:\n",
      "[[0.478 0.022 0.    0.498 0.002]\n",
      " [0.    0.904 0.    0.076 0.02 ]\n",
      " [0.194 0.096 0.    0.622 0.088]\n",
      " [0.114 0.25  0.    0.606 0.03 ]\n",
      " [0.    0.958 0.    0.002 0.04 ]]\n",
      "model saved: ./saved_models/fixmatch/latest_model.pth\n",
      "model saved: ./saved_models/fixmatch/model_best.pth\n",
      "1000 iteration, USE_EMA: True, train/sup_loss: 0.5431, train/unsup_loss: 0.4637, train/total_loss: 1.0068, train/util_ratio: 0.1562, train/run_time: 0.0971, eval/loss: 1.4889, eval/top-1-acc: 0.4056, eval/balanced_acc: 0.4056, eval/precision: 0.3143, eval/recall: 0.4056, eval/F1: 0.3190, lr: 0.0005, train/prefetch_time: 0.0023 BEST_EVAL_ACC: 0.4056, at 1000 iters\n",
      "1050 iteration USE_EMA: True, train/sup_loss: 0.3498, train/unsup_loss: 0.4810, train/total_loss: 0.8308, train/util_ratio: 0.2188, train/run_time: 0.0976, lr: 0.0005, train/prefetch_time: 0.0022 \n",
      "1100 iteration USE_EMA: True, train/sup_loss: 0.1982, train/unsup_loss: 0.3986, train/total_loss: 0.5968, train/util_ratio: 0.1875, train/run_time: 0.0974, lr: 0.0005, train/prefetch_time: 0.0022 \n",
      "1150 iteration USE_EMA: True, train/sup_loss: 0.2308, train/unsup_loss: 0.6233, train/total_loss: 0.8541, train/util_ratio: 0.3125, train/run_time: 0.0974, lr: 0.0005, train/prefetch_time: 0.0023 \n",
      "1200 iteration USE_EMA: True, train/sup_loss: 0.4929, train/unsup_loss: 0.2956, train/total_loss: 0.7885, train/util_ratio: 0.1250, train/run_time: 0.0979, lr: 0.0005, train/prefetch_time: 0.0022 \n",
      "1250 iteration USE_EMA: True, train/sup_loss: 0.2879, train/unsup_loss: 0.2227, train/total_loss: 0.5105, train/util_ratio: 0.0938, train/run_time: 0.0971, lr: 0.0005, train/prefetch_time: 0.0022 \n",
      "1300 iteration USE_EMA: True, train/sup_loss: 0.2030, train/unsup_loss: 0.3884, train/total_loss: 0.5914, train/util_ratio: 0.2500, train/run_time: 0.0970, lr: 0.0005, train/prefetch_time: 0.0021 \n",
      "1350 iteration USE_EMA: True, train/sup_loss: 0.2176, train/unsup_loss: 0.5580, train/total_loss: 0.7755, train/util_ratio: 0.2812, train/run_time: 0.0975, lr: 0.0005, train/prefetch_time: 0.0022 \n",
      "1400 iteration USE_EMA: True, train/sup_loss: 0.2095, train/unsup_loss: 0.2207, train/total_loss: 0.4302, train/util_ratio: 0.1562, train/run_time: 0.0972, lr: 0.0005, train/prefetch_time: 0.0021 \n",
      "1450 iteration USE_EMA: True, train/sup_loss: 0.3963, train/unsup_loss: 0.3354, train/total_loss: 0.7317, train/util_ratio: 0.1562, train/run_time: 0.0970, lr: 0.0005, train/prefetch_time: 0.0022 \n",
      "validating...\n",
      "confusion matrix:\n",
      "[[0.658 0.002 0.    0.324 0.016]\n",
      " [0.004 0.732 0.    0.08  0.184]\n",
      " [0.274 0.002 0.194 0.314 0.216]\n",
      " [0.214 0.104 0.002 0.55  0.13 ]\n",
      " [0.    0.656 0.    0.002 0.342]]\n",
      "model saved: ./saved_models/fixmatch/latest_model.pth\n",
      "model saved: ./saved_models/fixmatch/model_best.pth\n",
      "1500 iteration, USE_EMA: True, train/sup_loss: 0.1739, train/unsup_loss: 0.1573, train/total_loss: 0.3312, train/util_ratio: 0.2188, train/run_time: 0.0980, eval/loss: 1.4946, eval/top-1-acc: 0.4952, eval/balanced_acc: 0.4952, eval/precision: 0.5739, eval/recall: 0.4952, eval/F1: 0.4740, lr: 0.0005, train/prefetch_time: 0.0022 BEST_EVAL_ACC: 0.4952, at 1500 iters\n",
      "1550 iteration USE_EMA: True, train/sup_loss: 0.2840, train/unsup_loss: 0.3847, train/total_loss: 0.6687, train/util_ratio: 0.2188, train/run_time: 0.0983, lr: 0.0005, train/prefetch_time: 0.0021 \n",
      "1600 iteration USE_EMA: True, train/sup_loss: 0.3364, train/unsup_loss: 0.6625, train/total_loss: 0.9989, train/util_ratio: 0.2500, train/run_time: 0.0983, lr: 0.0005, train/prefetch_time: 0.0023 \n",
      "1650 iteration USE_EMA: True, train/sup_loss: 0.2078, train/unsup_loss: 0.6767, train/total_loss: 0.8845, train/util_ratio: 0.2500, train/run_time: 0.0978, lr: 0.0004, train/prefetch_time: 0.0022 \n",
      "1700 iteration USE_EMA: True, train/sup_loss: 0.3269, train/unsup_loss: 0.5871, train/total_loss: 0.9140, train/util_ratio: 0.3438, train/run_time: 0.0979, lr: 0.0004, train/prefetch_time: 0.0021 \n",
      "1750 iteration USE_EMA: True, train/sup_loss: 0.2694, train/unsup_loss: 0.3838, train/total_loss: 0.6532, train/util_ratio: 0.3438, train/run_time: 0.0987, lr: 0.0004, train/prefetch_time: 0.0019 \n",
      "1800 iteration USE_EMA: True, train/sup_loss: 0.4499, train/unsup_loss: 0.3670, train/total_loss: 0.8169, train/util_ratio: 0.3125, train/run_time: 0.0982, lr: 0.0004, train/prefetch_time: 0.0023 \n",
      "1850 iteration USE_EMA: True, train/sup_loss: 0.2171, train/unsup_loss: 0.4471, train/total_loss: 0.6642, train/util_ratio: 0.3750, train/run_time: 0.0980, lr: 0.0004, train/prefetch_time: 0.0022 \n",
      "1900 iteration USE_EMA: True, train/sup_loss: 0.2321, train/unsup_loss: 0.8753, train/total_loss: 1.1074, train/util_ratio: 0.5000, train/run_time: 0.0982, lr: 0.0004, train/prefetch_time: 0.0020 \n",
      "1950 iteration USE_EMA: True, train/sup_loss: 0.0984, train/unsup_loss: 0.5959, train/total_loss: 0.6943, train/util_ratio: 0.4375, train/run_time: 0.0984, lr: 0.0004, train/prefetch_time: 0.0018 \n",
      "validating...\n",
      "confusion matrix:\n",
      "[[0.73  0.002 0.002 0.256 0.01 ]\n",
      " [0.01  0.66  0.002 0.088 0.24 ]\n",
      " [0.108 0.034 0.526 0.124 0.208]\n",
      " [0.284 0.058 0.008 0.538 0.112]\n",
      " [0.    0.438 0.    0.    0.562]]\n",
      "model saved: ./saved_models/fixmatch/latest_model.pth\n",
      "model saved: ./saved_models/fixmatch/model_best.pth\n",
      "2000 iteration, USE_EMA: True, train/sup_loss: 0.2167, train/unsup_loss: 0.9506, train/total_loss: 1.1673, train/util_ratio: 0.5000, train/run_time: 0.0986, eval/loss: 1.4092, eval/top-1-acc: 0.6032, eval/balanced_acc: 0.6032, eval/precision: 0.6415, eval/recall: 0.6032, eval/F1: 0.6069, lr: 0.0004, train/prefetch_time: 0.0019 BEST_EVAL_ACC: 0.6032, at 2000 iters\n",
      "2050 iteration USE_EMA: True, train/sup_loss: 0.0767, train/unsup_loss: 0.4779, train/total_loss: 0.5546, train/util_ratio: 0.3125, train/run_time: 0.0981, lr: 0.0004, train/prefetch_time: 0.0026 \n",
      "2100 iteration USE_EMA: True, train/sup_loss: 0.1887, train/unsup_loss: 0.4933, train/total_loss: 0.6821, train/util_ratio: 0.2812, train/run_time: 0.0980, lr: 0.0004, train/prefetch_time: 0.0025 \n",
      "2150 iteration USE_EMA: True, train/sup_loss: 0.1706, train/unsup_loss: 0.4326, train/total_loss: 0.6032, train/util_ratio: 0.3438, train/run_time: 0.0980, lr: 0.0004, train/prefetch_time: 0.0022 \n",
      "2200 iteration USE_EMA: True, train/sup_loss: 0.1650, train/unsup_loss: 0.8688, train/total_loss: 1.0338, train/util_ratio: 0.5312, train/run_time: 0.0984, lr: 0.0004, train/prefetch_time: 0.0022 \n",
      "2250 iteration USE_EMA: True, train/sup_loss: 0.1042, train/unsup_loss: 0.8419, train/total_loss: 0.9461, train/util_ratio: 0.2812, train/run_time: 0.0975, lr: 0.0004, train/prefetch_time: 0.0025 \n",
      "2300 iteration USE_EMA: True, train/sup_loss: 0.1800, train/unsup_loss: 0.4932, train/total_loss: 0.6732, train/util_ratio: 0.2812, train/run_time: 0.0980, lr: 0.0004, train/prefetch_time: 0.0024 \n",
      "2350 iteration USE_EMA: True, train/sup_loss: 0.0771, train/unsup_loss: 0.8645, train/total_loss: 0.9416, train/util_ratio: 0.5625, train/run_time: 0.0977, lr: 0.0004, train/prefetch_time: 0.0025 \n",
      "2400 iteration USE_EMA: True, train/sup_loss: 0.1904, train/unsup_loss: 0.4542, train/total_loss: 0.6447, train/util_ratio: 0.3438, train/run_time: 0.0988, lr: 0.0004, train/prefetch_time: 0.0024 \n",
      "2450 iteration USE_EMA: True, train/sup_loss: 0.1432, train/unsup_loss: 0.4507, train/total_loss: 0.5939, train/util_ratio: 0.3125, train/run_time: 0.0980, lr: 0.0004, train/prefetch_time: 0.0029 \n",
      "validating...\n",
      "confusion matrix:\n",
      "[[0.738 0.002 0.006 0.25  0.004]\n",
      " [0.016 0.646 0.004 0.116 0.218]\n",
      " [0.136 0.032 0.592 0.088 0.152]\n",
      " [0.32  0.038 0.01  0.566 0.066]\n",
      " [0.    0.374 0.    0.012 0.614]]\n",
      "model saved: ./saved_models/fixmatch/latest_model.pth\n",
      "model saved: ./saved_models/fixmatch/model_best.pth\n",
      "2500 iteration, USE_EMA: True, train/sup_loss: 0.1752, train/unsup_loss: 0.4362, train/total_loss: 0.6114, train/util_ratio: 0.3125, train/run_time: 0.0981, eval/loss: 1.3992, eval/top-1-acc: 0.6312, eval/balanced_acc: 0.6312, eval/precision: 0.6600, eval/recall: 0.6312, eval/F1: 0.6350, lr: 0.0004, train/prefetch_time: 0.0020 BEST_EVAL_ACC: 0.6312, at 2500 iters\n"
     ]
    },
    {
     "name": "stderr",
     "output_type": "stream",
     "text": [
      "[2024-01-12 17:23:51,914 INFO] confusion matrix\n",
      "[2024-01-12 17:23:51,916 INFO] [[0.742 0.006 0.044 0.204 0.004]\n",
      " [0.028 0.594 0.012 0.128 0.238]\n",
      " [0.08  0.052 0.718 0.044 0.106]\n",
      " [0.418 0.048 0.048 0.428 0.058]\n",
      " [0.    0.194 0.    0.03  0.776]]\n",
      "[2024-01-12 17:23:51,918 INFO] evaluation metric\n",
      "[2024-01-12 17:23:51,918 INFO] acc: 0.6516\n",
      "[2024-01-12 17:23:51,919 INFO] precision: 0.6586\n",
      "[2024-01-12 17:23:51,919 INFO] recall: 0.6516\n",
      "[2024-01-12 17:23:51,920 INFO] f1: 0.6495\n"
     ]
    },
    {
     "name": "stdout",
     "output_type": "stream",
     "text": [
      "model saved: ./saved_models/fixmatch/latest_model.pth\n",
      "model saved: ./saved_models/fixmatch/model_best.pth\n",
      "Epoch: 1\n",
      "2550 iteration USE_EMA: True, train/sup_loss: 0.3127, train/unsup_loss: 0.6687, train/total_loss: 0.9814, train/util_ratio: 0.5000, train/run_time: 0.0979, lr: 0.0004, train/prefetch_time: 0.0022 \n",
      "2600 iteration USE_EMA: True, train/sup_loss: 0.2053, train/unsup_loss: 0.3388, train/total_loss: 0.5442, train/util_ratio: 0.3750, train/run_time: 0.0984, lr: 0.0004, train/prefetch_time: 0.0024 \n",
      "2650 iteration USE_EMA: True, train/sup_loss: 0.1463, train/unsup_loss: 0.6436, train/total_loss: 0.7899, train/util_ratio: 0.5312, train/run_time: 0.0977, lr: 0.0004, train/prefetch_time: 0.0021 \n",
      "2700 iteration USE_EMA: True, train/sup_loss: 0.0668, train/unsup_loss: 0.4209, train/total_loss: 0.4877, train/util_ratio: 0.3438, train/run_time: 0.0985, lr: 0.0004, train/prefetch_time: 0.0024 \n",
      "2750 iteration USE_EMA: True, train/sup_loss: 0.3384, train/unsup_loss: 0.5480, train/total_loss: 0.8865, train/util_ratio: 0.5312, train/run_time: 0.0979, lr: 0.0004, train/prefetch_time: 0.0022 \n",
      "2800 iteration USE_EMA: True, train/sup_loss: 0.0441, train/unsup_loss: 0.6535, train/total_loss: 0.6976, train/util_ratio: 0.4062, train/run_time: 0.0981, lr: 0.0004, train/prefetch_time: 0.0015 \n",
      "2850 iteration USE_EMA: True, train/sup_loss: 0.1773, train/unsup_loss: 0.7116, train/total_loss: 0.8889, train/util_ratio: 0.5625, train/run_time: 0.0985, lr: 0.0004, train/prefetch_time: 0.0024 \n",
      "2900 iteration USE_EMA: True, train/sup_loss: 0.1290, train/unsup_loss: 0.5427, train/total_loss: 0.6717, train/util_ratio: 0.5000, train/run_time: 0.0976, lr: 0.0003, train/prefetch_time: 0.0024 \n",
      "2950 iteration USE_EMA: True, train/sup_loss: 0.3177, train/unsup_loss: 0.2213, train/total_loss: 0.5391, train/util_ratio: 0.1562, train/run_time: 0.0973, lr: 0.0003, train/prefetch_time: 0.0956 \n",
      "validating...\n",
      "confusion matrix:\n",
      "[[0.748 0.002 0.008 0.24  0.002]\n",
      " [0.014 0.646 0.008 0.128 0.204]\n",
      " [0.126 0.032 0.638 0.068 0.136]\n",
      " [0.332 0.036 0.016 0.55  0.066]\n",
      " [0.    0.294 0.    0.018 0.688]]\n",
      "model saved: ./saved_models/fixmatch/latest_model.pth\n",
      "model saved: ./saved_models/fixmatch/model_best.pth\n",
      "3000 iteration, USE_EMA: True, train/sup_loss: 0.1291, train/unsup_loss: 0.4996, train/total_loss: 0.6287, train/util_ratio: 0.4062, train/run_time: 0.0983, eval/loss: 1.4251, eval/top-1-acc: 0.6540, eval/balanced_acc: 0.6540, eval/precision: 0.6761, eval/recall: 0.6540, eval/F1: 0.6572, lr: 0.0003, train/prefetch_time: 0.0023 BEST_EVAL_ACC: 0.6540, at 3000 iters\n",
      "3050 iteration USE_EMA: True, train/sup_loss: 0.0443, train/unsup_loss: 0.4568, train/total_loss: 0.5011, train/util_ratio: 0.4375, train/run_time: 0.0979, lr: 0.0003, train/prefetch_time: 0.0032 \n",
      "3100 iteration USE_EMA: True, train/sup_loss: 0.1661, train/unsup_loss: 0.6554, train/total_loss: 0.8215, train/util_ratio: 0.4688, train/run_time: 0.0976, lr: 0.0003, train/prefetch_time: 0.0021 \n",
      "3150 iteration USE_EMA: True, train/sup_loss: 0.0463, train/unsup_loss: 0.8513, train/total_loss: 0.8976, train/util_ratio: 0.5625, train/run_time: 0.0980, lr: 0.0003, train/prefetch_time: 0.0022 \n",
      "3200 iteration USE_EMA: True, train/sup_loss: 0.2354, train/unsup_loss: 0.7113, train/total_loss: 0.9467, train/util_ratio: 0.5312, train/run_time: 0.0988, lr: 0.0003, train/prefetch_time: 0.0025 \n",
      "3250 iteration USE_EMA: True, train/sup_loss: 0.0847, train/unsup_loss: 0.7195, train/total_loss: 0.8042, train/util_ratio: 0.5000, train/run_time: 0.0980, lr: 0.0003, train/prefetch_time: 0.0021 \n",
      "3300 iteration USE_EMA: True, train/sup_loss: 0.2678, train/unsup_loss: 0.6619, train/total_loss: 0.9297, train/util_ratio: 0.3438, train/run_time: 0.0983, lr: 0.0003, train/prefetch_time: 0.0023 \n",
      "3350 iteration USE_EMA: True, train/sup_loss: 0.1391, train/unsup_loss: 0.2617, train/total_loss: 0.4008, train/util_ratio: 0.2500, train/run_time: 0.0984, lr: 0.0003, train/prefetch_time: 0.0022 \n",
      "3400 iteration USE_EMA: True, train/sup_loss: 0.0780, train/unsup_loss: 0.5429, train/total_loss: 0.6210, train/util_ratio: 0.4688, train/run_time: 0.0977, lr: 0.0003, train/prefetch_time: 0.0025 \n",
      "3450 iteration USE_EMA: True, train/sup_loss: 0.1651, train/unsup_loss: 0.5373, train/total_loss: 0.7024, train/util_ratio: 0.3750, train/run_time: 0.0980, lr: 0.0003, train/prefetch_time: 0.0020 \n",
      "validating...\n",
      "confusion matrix:\n",
      "[[0.714 0.    0.028 0.256 0.002]\n",
      " [0.014 0.632 0.008 0.13  0.216]\n",
      " [0.084 0.042 0.69  0.062 0.122]\n",
      " [0.346 0.026 0.03  0.534 0.064]\n",
      " [0.    0.252 0.    0.02  0.728]]\n",
      "model saved: ./saved_models/fixmatch/latest_model.pth\n",
      "model saved: ./saved_models/fixmatch/model_best.pth\n",
      "3500 iteration, USE_EMA: True, train/sup_loss: 0.1255, train/unsup_loss: 0.7719, train/total_loss: 0.8975, train/util_ratio: 0.5625, train/run_time: 0.0985, eval/loss: 1.4541, eval/top-1-acc: 0.6596, eval/balanced_acc: 0.6596, eval/precision: 0.6738, eval/recall: 0.6596, eval/F1: 0.6623, lr: 0.0003, train/prefetch_time: 0.0032 BEST_EVAL_ACC: 0.6596, at 3500 iters\n",
      "3550 iteration USE_EMA: True, train/sup_loss: 0.1836, train/unsup_loss: 0.5378, train/total_loss: 0.7214, train/util_ratio: 0.4688, train/run_time: 0.0982, lr: 0.0003, train/prefetch_time: 0.0022 \n",
      "3600 iteration USE_EMA: True, train/sup_loss: 0.0582, train/unsup_loss: 0.8217, train/total_loss: 0.8799, train/util_ratio: 0.5312, train/run_time: 0.0983, lr: 0.0003, train/prefetch_time: 0.0021 \n",
      "3650 iteration USE_EMA: True, train/sup_loss: 0.0989, train/unsup_loss: 0.3858, train/total_loss: 0.4847, train/util_ratio: 0.3750, train/run_time: 0.0982, lr: 0.0003, train/prefetch_time: 0.0027 \n",
      "3700 iteration USE_EMA: True, train/sup_loss: 0.0440, train/unsup_loss: 0.4870, train/total_loss: 0.5310, train/util_ratio: 0.5312, train/run_time: 0.0979, lr: 0.0003, train/prefetch_time: 0.0022 \n",
      "3750 iteration USE_EMA: True, train/sup_loss: 0.2262, train/unsup_loss: 0.6014, train/total_loss: 0.8276, train/util_ratio: 0.5000, train/run_time: 0.0978, lr: 0.0003, train/prefetch_time: 0.0030 \n",
      "3800 iteration USE_EMA: True, train/sup_loss: 0.1747, train/unsup_loss: 0.6145, train/total_loss: 0.7892, train/util_ratio: 0.5312, train/run_time: 0.0977, lr: 0.0003, train/prefetch_time: 0.0024 \n",
      "3850 iteration USE_EMA: True, train/sup_loss: 0.0301, train/unsup_loss: 0.6955, train/total_loss: 0.7256, train/util_ratio: 0.5625, train/run_time: 0.0985, lr: 0.0002, train/prefetch_time: 0.0024 \n",
      "3900 iteration USE_EMA: True, train/sup_loss: 0.1232, train/unsup_loss: 0.5538, train/total_loss: 0.6769, train/util_ratio: 0.5000, train/run_time: 0.0977, lr: 0.0002, train/prefetch_time: 0.0022 \n",
      "3950 iteration USE_EMA: True, train/sup_loss: 0.0473, train/unsup_loss: 0.7650, train/total_loss: 0.8122, train/util_ratio: 0.5625, train/run_time: 0.0979, lr: 0.0002, train/prefetch_time: 0.0021 \n",
      "validating...\n",
      "confusion matrix:\n",
      "[[0.71  0.004 0.034 0.25  0.002]\n",
      " [0.016 0.618 0.012 0.126 0.228]\n",
      " [0.058 0.046 0.712 0.064 0.12 ]\n",
      " [0.35  0.028 0.038 0.522 0.062]\n",
      " [0.    0.218 0.    0.024 0.758]]\n",
      "model saved: ./saved_models/fixmatch/latest_model.pth\n",
      "model saved: ./saved_models/fixmatch/model_best.pth\n",
      "4000 iteration, USE_EMA: True, train/sup_loss: 0.0267, train/unsup_loss: 0.4944, train/total_loss: 0.5211, train/util_ratio: 0.4688, train/run_time: 0.0984, eval/loss: 1.4954, eval/top-1-acc: 0.6640, eval/balanced_acc: 0.6640, eval/precision: 0.6748, eval/recall: 0.6640, eval/F1: 0.6657, lr: 0.0002, train/prefetch_time: 0.0022 BEST_EVAL_ACC: 0.6640, at 4000 iters\n",
      "4050 iteration USE_EMA: True, train/sup_loss: 0.0859, train/unsup_loss: 0.4201, train/total_loss: 0.5060, train/util_ratio: 0.4062, train/run_time: 0.0974, lr: 0.0002, train/prefetch_time: 0.0021 \n",
      "4100 iteration USE_EMA: True, train/sup_loss: 0.0944, train/unsup_loss: 0.6995, train/total_loss: 0.7939, train/util_ratio: 0.4688, train/run_time: 0.0974, lr: 0.0002, train/prefetch_time: 0.0022 \n",
      "4150 iteration USE_EMA: True, train/sup_loss: 0.1320, train/unsup_loss: 0.7876, train/total_loss: 0.9196, train/util_ratio: 0.5000, train/run_time: 0.0982, lr: 0.0002, train/prefetch_time: 0.0022 \n",
      "4200 iteration USE_EMA: True, train/sup_loss: 0.1824, train/unsup_loss: 0.8315, train/total_loss: 1.0140, train/util_ratio: 0.5625, train/run_time: 0.0979, lr: 0.0002, train/prefetch_time: 0.0021 \n",
      "4250 iteration USE_EMA: True, train/sup_loss: 0.0543, train/unsup_loss: 0.6841, train/total_loss: 0.7383, train/util_ratio: 0.5625, train/run_time: 0.0980, lr: 0.0002, train/prefetch_time: 0.0022 \n",
      "4300 iteration USE_EMA: True, train/sup_loss: 0.0433, train/unsup_loss: 0.7591, train/total_loss: 0.8023, train/util_ratio: 0.5000, train/run_time: 0.0979, lr: 0.0002, train/prefetch_time: 0.0026 \n",
      "4350 iteration USE_EMA: True, train/sup_loss: 0.0327, train/unsup_loss: 0.3359, train/total_loss: 0.3686, train/util_ratio: 0.2500, train/run_time: 0.0980, lr: 0.0002, train/prefetch_time: 0.0022 \n",
      "4400 iteration USE_EMA: True, train/sup_loss: 0.0966, train/unsup_loss: 0.6867, train/total_loss: 0.7833, train/util_ratio: 0.5312, train/run_time: 0.0975, lr: 0.0002, train/prefetch_time: 0.0022 \n",
      "4450 iteration USE_EMA: True, train/sup_loss: 0.1147, train/unsup_loss: 0.5472, train/total_loss: 0.6619, train/util_ratio: 0.5312, train/run_time: 0.0984, lr: 0.0002, train/prefetch_time: 0.0024 \n",
      "validating...\n",
      "confusion matrix:\n",
      "[[0.702 0.004 0.044 0.248 0.002]\n",
      " [0.016 0.602 0.012 0.132 0.238]\n",
      " [0.054 0.038 0.734 0.056 0.118]\n",
      " [0.352 0.026 0.05  0.502 0.07 ]\n",
      " [0.    0.21  0.    0.026 0.764]]\n",
      "model saved: ./saved_models/fixmatch/latest_model.pth\n",
      "4500 iteration, USE_EMA: True, train/sup_loss: 0.0254, train/unsup_loss: 0.6923, train/total_loss: 0.7177, train/util_ratio: 0.4688, train/run_time: 0.0977, eval/loss: 1.5253, eval/top-1-acc: 0.6608, eval/balanced_acc: 0.6608, eval/precision: 0.6688, eval/recall: 0.6608, eval/F1: 0.6615, lr: 0.0002, train/prefetch_time: 0.0025 BEST_EVAL_ACC: 0.6640, at 4000 iters\n",
      "4550 iteration USE_EMA: True, train/sup_loss: 0.0725, train/unsup_loss: 0.3404, train/total_loss: 0.4129, train/util_ratio: 0.2188, train/run_time: 0.0984, lr: 0.0002, train/prefetch_time: 0.0020 \n",
      "4600 iteration USE_EMA: True, train/sup_loss: 0.0846, train/unsup_loss: 0.6436, train/total_loss: 0.7282, train/util_ratio: 0.4688, train/run_time: 0.0986, lr: 0.0002, train/prefetch_time: 0.0022 \n",
      "4650 iteration USE_EMA: True, train/sup_loss: 0.0734, train/unsup_loss: 0.5437, train/total_loss: 0.6170, train/util_ratio: 0.5000, train/run_time: 0.0988, lr: 0.0001, train/prefetch_time: 0.0028 \n",
      "4700 iteration USE_EMA: True, train/sup_loss: 0.1557, train/unsup_loss: 0.6030, train/total_loss: 0.7587, train/util_ratio: 0.5312, train/run_time: 0.0986, lr: 0.0001, train/prefetch_time: 0.0023 \n",
      "4750 iteration USE_EMA: True, train/sup_loss: 0.0963, train/unsup_loss: 0.6382, train/total_loss: 0.7345, train/util_ratio: 0.5000, train/run_time: 0.0986, lr: 0.0001, train/prefetch_time: 0.0034 \n",
      "4800 iteration USE_EMA: True, train/sup_loss: 0.1960, train/unsup_loss: 0.7205, train/total_loss: 0.9165, train/util_ratio: 0.5938, train/run_time: 0.0987, lr: 0.0001, train/prefetch_time: 0.0020 \n",
      "4850 iteration USE_EMA: True, train/sup_loss: 0.1471, train/unsup_loss: 0.4046, train/total_loss: 0.5517, train/util_ratio: 0.4375, train/run_time: 0.0979, lr: 0.0001, train/prefetch_time: 0.0023 \n",
      "4900 iteration USE_EMA: True, train/sup_loss: 0.2173, train/unsup_loss: 0.6476, train/total_loss: 0.8649, train/util_ratio: 0.3750, train/run_time: 0.0978, lr: 0.0001, train/prefetch_time: 0.0023 \n",
      "4950 iteration USE_EMA: True, train/sup_loss: 0.0275, train/unsup_loss: 0.6725, train/total_loss: 0.7000, train/util_ratio: 0.5625, train/run_time: 0.0982, lr: 0.0001, train/prefetch_time: 0.0022 \n",
      "validating...\n",
      "confusion matrix:\n",
      "[[0.686 0.004 0.054 0.254 0.002]\n",
      " [0.016 0.6   0.012 0.132 0.24 ]\n",
      " [0.048 0.04  0.744 0.052 0.116]\n",
      " [0.35  0.026 0.052 0.502 0.07 ]\n",
      " [0.    0.204 0.    0.024 0.772]]\n",
      "model saved: ./saved_models/fixmatch/latest_model.pth\n",
      "5000 iteration, USE_EMA: True, train/sup_loss: 0.0847, train/unsup_loss: 0.7291, train/total_loss: 0.8138, train/util_ratio: 0.6875, train/run_time: 0.0982, eval/loss: 1.5591, eval/top-1-acc: 0.6608, eval/balanced_acc: 0.6608, eval/precision: 0.6675, eval/recall: 0.6608, eval/F1: 0.6612, lr: 0.0001, train/prefetch_time: 0.0020 BEST_EVAL_ACC: 0.6640, at 4000 iters\n"
     ]
    },
    {
     "name": "stderr",
     "output_type": "stream",
     "text": [
      "[2024-01-12 17:31:28,431 INFO] confusion matrix\n",
      "[2024-01-12 17:31:28,432 INFO] [[0.58  0.004 0.104 0.312 0.   ]\n",
      " [0.02  0.594 0.014 0.12  0.252]\n",
      " [0.03  0.024 0.78  0.042 0.124]\n",
      " [0.33  0.038 0.098 0.466 0.068]\n",
      " [0.    0.188 0.    0.016 0.796]]\n",
      "[2024-01-12 17:31:28,434 INFO] evaluation metric\n",
      "[2024-01-12 17:31:28,434 INFO] acc: 0.6432\n",
      "[2024-01-12 17:31:28,434 INFO] precision: 0.6434\n",
      "[2024-01-12 17:31:28,435 INFO] recall: 0.6432\n",
      "[2024-01-12 17:31:28,435 INFO] f1: 0.6407\n",
      "[2024-01-12 17:31:28,867 INFO] Best acc 0.6640 at epoch 0\n",
      "[2024-01-12 17:31:28,868 INFO] Training finished.\n"
     ]
    },
    {
     "name": "stdout",
     "output_type": "stream",
     "text": [
      "model saved: ./saved_models/fixmatch/latest_model.pth\n"
     ]
    }
   ],
   "source": [
    "trainer = Trainer(config, algorithm)\n",
    "trainer.fit(train_lb_loader, train_ulb_loader,eval_loader)"
   ]
  },
  {
   "cell_type": "markdown",
   "metadata": {
    "pycharm": {
     "name": "#%% md\n"
    }
   },
   "source": [
    "## Step 5: evaluate"
   ]
  },
  {
   "cell_type": "code",
   "execution_count": 43,
   "metadata": {
    "collapsed": false,
    "jupyter": {
     "outputs_hidden": false
    },
    "pycharm": {
     "name": "#%%\n"
    },
    "tags": []
   },
   "outputs": [
    {
     "name": "stderr",
     "output_type": "stream",
     "text": [
      "[2024-01-12 17:32:28,994 INFO] confusion matrix\n",
      "[2024-01-12 17:32:28,996 INFO] [[0.58  0.004 0.104 0.312 0.   ]\n",
      " [0.02  0.594 0.014 0.12  0.252]\n",
      " [0.03  0.024 0.78  0.042 0.124]\n",
      " [0.33  0.038 0.098 0.466 0.068]\n",
      " [0.    0.188 0.    0.016 0.796]]\n",
      "[2024-01-12 17:32:28,998 INFO] evaluation metric\n",
      "[2024-01-12 17:32:28,998 INFO] acc: 0.6432\n",
      "[2024-01-12 17:32:28,999 INFO] precision: 0.6434\n",
      "[2024-01-12 17:32:28,999 INFO] recall: 0.6432\n",
      "[2024-01-12 17:32:29,000 INFO] f1: 0.6407\n"
     ]
    },
    {
     "data": {
      "text/plain": [
       "{'acc': 0.6432,\n",
       " 'precision': 0.6434308155032188,\n",
       " 'recall': 0.6432,\n",
       " 'f1': 0.6406907814209447}"
      ]
     },
     "execution_count": 43,
     "metadata": {},
     "output_type": "execute_result"
    }
   ],
   "source": [
    "trainer.evaluate(eval_loader)"
   ]
  },
  {
   "cell_type": "markdown",
   "metadata": {
    "pycharm": {
     "name": "#%% md\n"
    }
   },
   "source": [
    "## Step 6: predict"
   ]
  },
  {
   "cell_type": "code",
   "execution_count": 22,
   "metadata": {
    "collapsed": false,
    "jupyter": {
     "outputs_hidden": false
    },
    "pycharm": {
     "name": "#%%\n"
    },
    "tags": []
   },
   "outputs": [],
   "source": [
    "y_pred, y_logits = trainer.predict(eval_loader)"
   ]
  },
  {
   "cell_type": "code",
   "execution_count": null,
   "metadata": {},
   "outputs": [],
   "source": []
  }
 ],
 "metadata": {
  "kernelspec": {
   "display_name": "pytorch1",
   "language": "python",
   "name": "pytorch1"
  },
  "language_info": {
   "codemirror_mode": {
    "name": "ipython",
    "version": 3
   },
   "file_extension": ".py",
   "mimetype": "text/x-python",
   "name": "python",
   "nbconvert_exporter": "python",
   "pygments_lexer": "ipython3",
   "version": "3.11.6"
  },
  "toc-autonumbering": false,
  "vscode": {
   "interpreter": {
    "hash": "efd87a861e5021e4a438e5b61d692cea261dd91508182bfdfdb13fb969975ffe"
   }
  }
 },
 "nbformat": 4,
 "nbformat_minor": 4
}
